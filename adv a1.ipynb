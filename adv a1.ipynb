{
 "cells": [
  {
   "cell_type": "code",
   "execution_count": 5,
   "id": "9584cfc0",
   "metadata": {},
   "outputs": [],
   "source": [
    "#Q What is the purpose of Pythons OOP?\n",
    "\n",
    "#A to implement real-world entities like inheritance, polymorphisms, encapsulation, etc. in the programming.\n"
   ]
  },
  {
   "cell_type": "code",
   "execution_count": 6,
   "id": "a908ffd6",
   "metadata": {},
   "outputs": [],
   "source": [
    "#Q Where does an inheritance search look for an attribute?\n",
    "\n",
    "#A The whole point of a namespace tool like the class statement is to support name inheritance. In Python, inheritance happens when an object is qualified, and involves searching an attribute definition tree (one or more namespaces). Every time you use an expression of the form object."
   ]
  },
  {
   "cell_type": "code",
   "execution_count": 7,
   "id": "851a68ec",
   "metadata": {},
   "outputs": [],
   "source": [
    "#Q How do you distinguish between a class object and an instance object?\n",
    "\n",
    "#A Everything in Python is an object such as integers, lists, dictionaries, functions and so on. Every object has a type and the object types are created using classes. Instance is an object that belongs to a class. "
   ]
  },
  {
   "cell_type": "code",
   "execution_count": 8,
   "id": "c3c2cc52",
   "metadata": {},
   "outputs": [],
   "source": [
    "#Q What makes the first argument in a class’s method function special?\n",
    "\n",
    "#A The calling process is automatic while the receiving process is not (its explicit). This is the reason the first parameter of a function in class must be the object itself. Writing this parameter as self is merely a convention. It is not a keyword and has no special meaning in Python."
   ]
  },
  {
   "cell_type": "code",
   "execution_count": 9,
   "id": "eb6b2bc7",
   "metadata": {},
   "outputs": [],
   "source": [
    "#Q What is the purpose of the __init__ method?\n",
    "\n",
    "#A The __init__ method is the Python equivalent of the C++ constructor in an object-oriented approach. The __init__ function is called every time an object is created from a class. The __init__ method lets the class initialize the object's attributes and serves no other purpose."
   ]
  }
 ],
 "metadata": {
  "kernelspec": {
   "display_name": "Python 3 (ipykernel)",
   "language": "python",
   "name": "python3"
  },
  "language_info": {
   "codemirror_mode": {
    "name": "ipython",
    "version": 3
   },
   "file_extension": ".py",
   "mimetype": "text/x-python",
   "name": "python",
   "nbconvert_exporter": "python",
   "pygments_lexer": "ipython3",
   "version": "3.9.7"
  }
 },
 "nbformat": 4,
 "nbformat_minor": 5
}
